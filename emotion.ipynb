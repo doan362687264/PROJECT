{
  "nbformat": 4,
  "nbformat_minor": 0,
  "metadata": {
    "colab": {
      "name": "emotion.ipynb",
      "provenance": [],
      "authorship_tag": "ABX9TyMMT5FQKs3bV/UlE0r172cj",
      "include_colab_link": true
    },
    "kernelspec": {
      "name": "python3",
      "display_name": "Python 3"
    },
    "language_info": {
      "name": "python"
    },
    "gpuClass": "standard",
    "accelerator": "GPU"
  },
  "cells": [
    {
      "cell_type": "markdown",
      "metadata": {
        "id": "view-in-github",
        "colab_type": "text"
      },
      "source": [
        "<a href=\"https://colab.research.google.com/github/doan362687264/PROJECT/blob/main/emotion.ipynb\" target=\"_parent\"><img src=\"https://colab.research.google.com/assets/colab-badge.svg\" alt=\"Open In Colab\"/></a>"
      ]
    },
    {
      "cell_type": "code",
      "execution_count": null,
      "metadata": {
        "colab": {
          "base_uri": "https://localhost:8080/"
        },
        "id": "GfYVrzNN6jl4",
        "outputId": "1e4f0781-1104-4eb7-c417-6e539a1839d3"
      },
      "outputs": [
        {
          "output_type": "stream",
          "name": "stdout",
          "text": [
            "Mounted at /content/drive\n"
          ]
        }
      ],
      "source": [
        "from google.colab import drive \n",
        "drive.mount('/content/drive')"
      ]
    },
    {
      "cell_type": "code",
      "source": [
        "from keras import datasets, Sequential\n",
        "from keras.layers import Conv2D, Dense, MaxPooling2D, Flatten\n",
        "from keras.preprocessing import  image\n",
        "from keras.preprocessing.image import load_img, img_to_array,array_to_img,ImageDataGenerator\n",
        "import matplotlib.pyplot as plt\n",
        "import seaborn as sns\n",
        "import numpy as np\n",
        "from numpy import asarray\n",
        "from numpy import save\n",
        "import keras\n",
        "import os\n",
        "from os import listdir\n",
        "import cv2 as cv\n",
        "import tensorflow as tf\n",
        "from tensorflow.keras.optimizers import Adam, SGD\n",
        "from sklearn.model_selection import train_test_split"
      ],
      "metadata": {
        "id": "3BCh8Nc47NLs"
      },
      "execution_count": null,
      "outputs": []
    },
    {
      "cell_type": "code",
      "source": [
        "folder  = '/content/drive/MyDrive/train/angry'\n",
        "folder1 ='/content/drive/MyDrive/train/disgust'\n",
        "folder2 = '/content/drive/MyDrive/train/fear'\n",
        "folder3 = '/content/drive/MyDrive/train/happy'\n",
        "folder4 = '/content/drive/MyDrive/train/neutral'\n",
        "folder5 = '/content/drive/MyDrive/train/sad'\n",
        "folder6 = '/content/drive/MyDrive/train/surprise'\n",
        "folders=[folder,folder1,folder2,folder3,folder4,folder5,folder6]\n",
        "photos, labels = list(), list()\n",
        "for i in range (7):\n",
        "  for file in listdir(folders[i]):\n",
        "    output=i\n",
        "    photo = load_img(folders[i]+'/'+file, target_size=(48,48))\n",
        "    photo = img_to_array(photo)\n",
        "    photos.append(photo)\n",
        "    labels.append(output)\n",
        "photos = asarray(photos)\n",
        "labels = asarray(labels)\n",
        "print(photos.shape, labels.shape)\n",
        "save('/content/drive/MyDrive/train/photoes.npy',photos)\n",
        "save('/content/drive/MyDrive/train/labels.npy',labels)"
      ],
      "metadata": {
        "colab": {
          "base_uri": "https://localhost:8080/"
        },
        "id": "nhrH7Ot77Pgg",
        "outputId": "e1a3468a-d945-44e6-cbb3-43b052951cc1"
      },
      "execution_count": null,
      "outputs": [
        {
          "output_type": "stream",
          "name": "stdout",
          "text": [
            "(24743, 48, 48, 3) (24743,)\n"
          ]
        }
      ]
    },
    {
      "cell_type": "code",
      "source": [
        "x_train, x_test, y_train, y_test = train_test_split(photos, labels, test_size=0.3, random_state=2)\n",
        "x_train /= 255\n",
        "x_test /= 255\n",
        "y_train = keras.utils.np_utils.to_categorical(y_train)\n",
        "y_test = keras.utils.np_utils.to_categorical(y_test)"
      ],
      "metadata": {
        "id": "wp8NAaJW7rQP"
      },
      "execution_count": null,
      "outputs": []
    },
    {
      "cell_type": "code",
      "source": [
        "#tạo model\n",
        "model = Sequential()\n",
        "model.add(Conv2D(32,(3,3), activation = 'relu', kernel_initializer='he_uniform',padding='same',input_shape=(48,48,3)))\n",
        "model.add(MaxPooling2D((2,2)))\n",
        "\n",
        "model.add(Conv2D(64,(3,3), activation = 'relu', kernel_initializer='he_uniform',padding='same'))\n",
        "model.add(MaxPooling2D((2,2)))\n",
        "\n",
        "model.add(Conv2D(128,(3,3), activation = 'relu', kernel_initializer='he_uniform',padding='same'))\n",
        "model.add(MaxPooling2D((2,2)))\n",
        "\n",
        "model.add(Conv2D(512,(3,3), activation = 'relu', kernel_initializer='he_uniform',padding='same'))\n",
        "model.add(MaxPooling2D((2,2)))\n",
        "\n",
        "model.add(Flatten())\n",
        "model.add(Dense(512, activation='relu', kernel_initializer='he_uniform'))  #Dense la full connected \n",
        "model.add(Dense(7, activation='Softmax'))\n",
        "model.summary()\n"
      ],
      "metadata": {
        "id": "KEpcpIWG7tfC",
        "colab": {
          "base_uri": "https://localhost:8080/"
        },
        "outputId": "a7dcd1be-070d-4b83-a3cd-20afdb13c51f"
      },
      "execution_count": null,
      "outputs": [
        {
          "output_type": "stream",
          "name": "stdout",
          "text": [
            "Model: \"sequential\"\n",
            "_________________________________________________________________\n",
            " Layer (type)                Output Shape              Param #   \n",
            "=================================================================\n",
            " conv2d (Conv2D)             (None, 48, 48, 32)        896       \n",
            "                                                                 \n",
            " max_pooling2d (MaxPooling2D  (None, 24, 24, 32)       0         \n",
            " )                                                               \n",
            "                                                                 \n",
            " conv2d_1 (Conv2D)           (None, 24, 24, 64)        18496     \n",
            "                                                                 \n",
            " max_pooling2d_1 (MaxPooling  (None, 12, 12, 64)       0         \n",
            " 2D)                                                             \n",
            "                                                                 \n",
            " conv2d_2 (Conv2D)           (None, 12, 12, 128)       73856     \n",
            "                                                                 \n",
            " max_pooling2d_2 (MaxPooling  (None, 6, 6, 128)        0         \n",
            " 2D)                                                             \n",
            "                                                                 \n",
            " conv2d_3 (Conv2D)           (None, 6, 6, 512)         590336    \n",
            "                                                                 \n",
            " max_pooling2d_3 (MaxPooling  (None, 3, 3, 512)        0         \n",
            " 2D)                                                             \n",
            "                                                                 \n",
            " flatten (Flatten)           (None, 4608)              0         \n",
            "                                                                 \n",
            " dense (Dense)               (None, 512)               2359808   \n",
            "                                                                 \n",
            " dense_1 (Dense)             (None, 7)                 3591      \n",
            "                                                                 \n",
            "=================================================================\n",
            "Total params: 3,046,983\n",
            "Trainable params: 3,046,983\n",
            "Non-trainable params: 0\n",
            "_________________________________________________________________\n"
          ]
        }
      ]
    },
    {
      "cell_type": "code",
      "source": [
        "opt = SGD(lr=0.01, momentum=0.9)\n",
        "model.compile(optimizer=opt,loss='categorical_crossentropy',  metrics=['accuracy'])\n",
        "history = model.fit(x_train, y_train, batch_size=128, epochs=100, verbose=1,validation_data=(x_test, y_test))"
      ],
      "metadata": {
        "id": "w_vVft3D72w_",
        "colab": {
          "base_uri": "https://localhost:8080/"
        },
        "outputId": "7565a4f9-9d73-4ed7-8739-6e59744ce771"
      },
      "execution_count": null,
      "outputs": [
        {
          "output_type": "stream",
          "name": "stderr",
          "text": [
            "/usr/local/lib/python3.7/dist-packages/keras/optimizer_v2/gradient_descent.py:102: UserWarning: The `lr` argument is deprecated, use `learning_rate` instead.\n",
            "  super(SGD, self).__init__(name, **kwargs)\n"
          ]
        },
        {
          "output_type": "stream",
          "name": "stdout",
          "text": [
            "Epoch 1/100\n",
            "136/136 [==============================] - 15s 26ms/step - loss: 1.8159 - accuracy: 0.2363 - val_loss: 1.6859 - val_accuracy: 0.2847\n",
            "Epoch 2/100\n",
            "136/136 [==============================] - 3s 20ms/step - loss: 1.6728 - accuracy: 0.2958 - val_loss: 1.6108 - val_accuracy: 0.3337\n",
            "Epoch 3/100\n",
            "136/136 [==============================] - 3s 21ms/step - loss: 1.5871 - accuracy: 0.3591 - val_loss: 1.5425 - val_accuracy: 0.3741\n",
            "Epoch 4/100\n",
            "136/136 [==============================] - 3s 21ms/step - loss: 1.5266 - accuracy: 0.3967 - val_loss: 1.5360 - val_accuracy: 0.3689\n",
            "Epoch 5/100\n",
            "136/136 [==============================] - 3s 22ms/step - loss: 1.4511 - accuracy: 0.4289 - val_loss: 1.4380 - val_accuracy: 0.4315\n",
            "Epoch 6/100\n",
            "136/136 [==============================] - 3s 21ms/step - loss: 1.3853 - accuracy: 0.4574 - val_loss: 1.4050 - val_accuracy: 0.4505\n",
            "Epoch 7/100\n",
            "136/136 [==============================] - 3s 21ms/step - loss: 1.3300 - accuracy: 0.4783 - val_loss: 1.4015 - val_accuracy: 0.4465\n",
            "Epoch 8/100\n",
            "136/136 [==============================] - 3s 21ms/step - loss: 1.2397 - accuracy: 0.5239 - val_loss: 1.4388 - val_accuracy: 0.4446\n",
            "Epoch 9/100\n",
            "136/136 [==============================] - 3s 21ms/step - loss: 1.1616 - accuracy: 0.5582 - val_loss: 1.3722 - val_accuracy: 0.4576\n",
            "Epoch 10/100\n",
            "136/136 [==============================] - 3s 21ms/step - loss: 1.0891 - accuracy: 0.5901 - val_loss: 1.3630 - val_accuracy: 0.4743\n",
            "Epoch 11/100\n",
            "136/136 [==============================] - 3s 22ms/step - loss: 0.9876 - accuracy: 0.6309 - val_loss: 1.3723 - val_accuracy: 0.4800\n",
            "Epoch 12/100\n",
            "136/136 [==============================] - 3s 20ms/step - loss: 0.8707 - accuracy: 0.6769 - val_loss: 1.4577 - val_accuracy: 0.4715\n",
            "Epoch 13/100\n",
            "136/136 [==============================] - 3s 21ms/step - loss: 0.7708 - accuracy: 0.7156 - val_loss: 1.5131 - val_accuracy: 0.4817\n",
            "Epoch 14/100\n",
            "136/136 [==============================] - 3s 22ms/step - loss: 0.6418 - accuracy: 0.7658 - val_loss: 1.5384 - val_accuracy: 0.4987\n",
            "Epoch 15/100\n",
            "136/136 [==============================] - 3s 22ms/step - loss: 0.5427 - accuracy: 0.8020 - val_loss: 1.7929 - val_accuracy: 0.4434\n",
            "Epoch 16/100\n",
            "136/136 [==============================] - 3s 22ms/step - loss: 0.4407 - accuracy: 0.8402 - val_loss: 1.7757 - val_accuracy: 0.4904\n",
            "Epoch 17/100\n",
            "136/136 [==============================] - 3s 21ms/step - loss: 0.3784 - accuracy: 0.8666 - val_loss: 1.9388 - val_accuracy: 0.4983\n",
            "Epoch 18/100\n",
            "136/136 [==============================] - 3s 21ms/step - loss: 0.2859 - accuracy: 0.9030 - val_loss: 2.2931 - val_accuracy: 0.4809\n",
            "Epoch 19/100\n",
            "136/136 [==============================] - 3s 21ms/step - loss: 0.2423 - accuracy: 0.9196 - val_loss: 2.5239 - val_accuracy: 0.4695\n",
            "Epoch 20/100\n",
            "136/136 [==============================] - 3s 21ms/step - loss: 0.1841 - accuracy: 0.9402 - val_loss: 2.6311 - val_accuracy: 0.4913\n",
            "Epoch 21/100\n",
            "136/136 [==============================] - 3s 22ms/step - loss: 0.1745 - accuracy: 0.9426 - val_loss: 2.5176 - val_accuracy: 0.5042\n",
            "Epoch 22/100\n",
            "136/136 [==============================] - 3s 21ms/step - loss: 0.1258 - accuracy: 0.9610 - val_loss: 2.7093 - val_accuracy: 0.4920\n",
            "Epoch 23/100\n",
            "136/136 [==============================] - 3s 21ms/step - loss: 0.1156 - accuracy: 0.9656 - val_loss: 2.6698 - val_accuracy: 0.4914\n",
            "Epoch 24/100\n",
            "136/136 [==============================] - 3s 22ms/step - loss: 0.0948 - accuracy: 0.9734 - val_loss: 2.8324 - val_accuracy: 0.4943\n",
            "Epoch 25/100\n",
            "136/136 [==============================] - 3s 21ms/step - loss: 0.0701 - accuracy: 0.9808 - val_loss: 2.8829 - val_accuracy: 0.5021\n",
            "Epoch 26/100\n",
            "136/136 [==============================] - 3s 22ms/step - loss: 0.0539 - accuracy: 0.9872 - val_loss: 3.0338 - val_accuracy: 0.4902\n",
            "Epoch 27/100\n",
            "136/136 [==============================] - 3s 21ms/step - loss: 0.0491 - accuracy: 0.9890 - val_loss: 3.0712 - val_accuracy: 0.5053\n",
            "Epoch 28/100\n",
            "136/136 [==============================] - 3s 21ms/step - loss: 0.0458 - accuracy: 0.9902 - val_loss: 2.8644 - val_accuracy: 0.5048\n",
            "Epoch 29/100\n",
            "136/136 [==============================] - 3s 21ms/step - loss: 0.0335 - accuracy: 0.9930 - val_loss: 3.1910 - val_accuracy: 0.5011\n",
            "Epoch 30/100\n",
            "136/136 [==============================] - 3s 21ms/step - loss: 0.0266 - accuracy: 0.9953 - val_loss: 2.9826 - val_accuracy: 0.5111\n",
            "Epoch 31/100\n",
            "136/136 [==============================] - 3s 22ms/step - loss: 0.0265 - accuracy: 0.9953 - val_loss: 2.8765 - val_accuracy: 0.5098\n",
            "Epoch 32/100\n",
            "136/136 [==============================] - 3s 21ms/step - loss: 0.0228 - accuracy: 0.9957 - val_loss: 2.8658 - val_accuracy: 0.5057\n",
            "Epoch 33/100\n",
            "136/136 [==============================] - 3s 21ms/step - loss: 0.0213 - accuracy: 0.9957 - val_loss: 2.8583 - val_accuracy: 0.5131\n",
            "Epoch 34/100\n",
            "136/136 [==============================] - 3s 21ms/step - loss: 0.0180 - accuracy: 0.9963 - val_loss: 2.8867 - val_accuracy: 0.5207\n",
            "Epoch 35/100\n",
            "136/136 [==============================] - 3s 22ms/step - loss: 0.0170 - accuracy: 0.9960 - val_loss: 2.9108 - val_accuracy: 0.5158\n",
            "Epoch 36/100\n",
            "136/136 [==============================] - 3s 23ms/step - loss: 0.0155 - accuracy: 0.9965 - val_loss: 2.8121 - val_accuracy: 0.5100\n",
            "Epoch 37/100\n",
            "136/136 [==============================] - 3s 21ms/step - loss: 0.0140 - accuracy: 0.9966 - val_loss: 2.9179 - val_accuracy: 0.5158\n",
            "Epoch 38/100\n",
            "136/136 [==============================] - 3s 21ms/step - loss: 0.0132 - accuracy: 0.9967 - val_loss: 2.9422 - val_accuracy: 0.5138\n",
            "Epoch 39/100\n",
            "136/136 [==============================] - 3s 21ms/step - loss: 0.0119 - accuracy: 0.9967 - val_loss: 2.8441 - val_accuracy: 0.5115\n",
            "Epoch 40/100\n",
            "136/136 [==============================] - 3s 21ms/step - loss: 0.0120 - accuracy: 0.9964 - val_loss: 2.9409 - val_accuracy: 0.5166\n",
            "Epoch 41/100\n",
            "136/136 [==============================] - 3s 21ms/step - loss: 0.0125 - accuracy: 0.9964 - val_loss: 2.9967 - val_accuracy: 0.5098\n",
            "Epoch 42/100\n",
            "136/136 [==============================] - 3s 21ms/step - loss: 0.0126 - accuracy: 0.9965 - val_loss: 2.8102 - val_accuracy: 0.5148\n",
            "Epoch 43/100\n",
            "136/136 [==============================] - 3s 22ms/step - loss: 0.0109 - accuracy: 0.9967 - val_loss: 2.9433 - val_accuracy: 0.5064\n",
            "Epoch 44/100\n",
            "136/136 [==============================] - 3s 21ms/step - loss: 0.0112 - accuracy: 0.9964 - val_loss: 2.9903 - val_accuracy: 0.5178\n",
            "Epoch 45/100\n",
            "136/136 [==============================] - 3s 23ms/step - loss: 0.0122 - accuracy: 0.9963 - val_loss: 2.9781 - val_accuracy: 0.5161\n",
            "Epoch 46/100\n",
            "136/136 [==============================] - 3s 21ms/step - loss: 0.0106 - accuracy: 0.9969 - val_loss: 2.9410 - val_accuracy: 0.5125\n",
            "Epoch 47/100\n",
            "136/136 [==============================] - 3s 21ms/step - loss: 0.0107 - accuracy: 0.9964 - val_loss: 2.9785 - val_accuracy: 0.5107\n",
            "Epoch 48/100\n",
            "136/136 [==============================] - 3s 23ms/step - loss: 0.0100 - accuracy: 0.9967 - val_loss: 2.9834 - val_accuracy: 0.5094\n",
            "Epoch 49/100\n",
            "136/136 [==============================] - 3s 21ms/step - loss: 0.0105 - accuracy: 0.9964 - val_loss: 2.8264 - val_accuracy: 0.5156\n",
            "Epoch 50/100\n",
            "136/136 [==============================] - 3s 21ms/step - loss: 0.0100 - accuracy: 0.9966 - val_loss: 2.8825 - val_accuracy: 0.5117\n",
            "Epoch 51/100\n",
            "136/136 [==============================] - 3s 23ms/step - loss: 0.0094 - accuracy: 0.9967 - val_loss: 3.0277 - val_accuracy: 0.5112\n",
            "Epoch 52/100\n",
            "136/136 [==============================] - 3s 22ms/step - loss: 0.0101 - accuracy: 0.9965 - val_loss: 2.9326 - val_accuracy: 0.5174\n",
            "Epoch 53/100\n",
            "136/136 [==============================] - 3s 21ms/step - loss: 0.0086 - accuracy: 0.9968 - val_loss: 3.0311 - val_accuracy: 0.5126\n",
            "Epoch 54/100\n",
            "136/136 [==============================] - 3s 21ms/step - loss: 0.0093 - accuracy: 0.9967 - val_loss: 2.8762 - val_accuracy: 0.5152\n",
            "Epoch 55/100\n",
            "136/136 [==============================] - 3s 21ms/step - loss: 0.0091 - accuracy: 0.9966 - val_loss: 3.0180 - val_accuracy: 0.5056\n",
            "Epoch 56/100\n",
            "136/136 [==============================] - 3s 21ms/step - loss: 0.0092 - accuracy: 0.9969 - val_loss: 2.9439 - val_accuracy: 0.5169\n",
            "Epoch 57/100\n",
            "136/136 [==============================] - 3s 21ms/step - loss: 0.0086 - accuracy: 0.9967 - val_loss: 2.9964 - val_accuracy: 0.5161\n",
            "Epoch 58/100\n",
            "136/136 [==============================] - 3s 21ms/step - loss: 0.0092 - accuracy: 0.9964 - val_loss: 2.9678 - val_accuracy: 0.5158\n",
            "Epoch 59/100\n",
            "136/136 [==============================] - 3s 22ms/step - loss: 0.0090 - accuracy: 0.9967 - val_loss: 2.9751 - val_accuracy: 0.5161\n",
            "Epoch 60/100\n",
            "136/136 [==============================] - 3s 21ms/step - loss: 0.0085 - accuracy: 0.9968 - val_loss: 2.9928 - val_accuracy: 0.5156\n",
            "Epoch 61/100\n",
            "136/136 [==============================] - 3s 21ms/step - loss: 0.0092 - accuracy: 0.9965 - val_loss: 2.9385 - val_accuracy: 0.5165\n",
            "Epoch 62/100\n",
            "136/136 [==============================] - 3s 22ms/step - loss: 0.0084 - accuracy: 0.9967 - val_loss: 3.0492 - val_accuracy: 0.5180\n",
            "Epoch 63/100\n",
            "136/136 [==============================] - 3s 21ms/step - loss: 0.0083 - accuracy: 0.9971 - val_loss: 2.9670 - val_accuracy: 0.5173\n",
            "Epoch 64/100\n",
            "136/136 [==============================] - 3s 23ms/step - loss: 0.0079 - accuracy: 0.9969 - val_loss: 2.9998 - val_accuracy: 0.5181\n",
            "Epoch 65/100\n",
            "136/136 [==============================] - 3s 21ms/step - loss: 0.0087 - accuracy: 0.9967 - val_loss: 3.0110 - val_accuracy: 0.5185\n",
            "Epoch 66/100\n",
            "136/136 [==============================] - 3s 21ms/step - loss: 0.0078 - accuracy: 0.9969 - val_loss: 3.0121 - val_accuracy: 0.5184\n",
            "Epoch 67/100\n",
            "136/136 [==============================] - 3s 21ms/step - loss: 0.0086 - accuracy: 0.9963 - val_loss: 3.0099 - val_accuracy: 0.5219\n",
            "Epoch 68/100\n",
            "136/136 [==============================] - 3s 23ms/step - loss: 0.0079 - accuracy: 0.9968 - val_loss: 2.9830 - val_accuracy: 0.5139\n",
            "Epoch 69/100\n",
            "136/136 [==============================] - 3s 21ms/step - loss: 0.0082 - accuracy: 0.9965 - val_loss: 3.0425 - val_accuracy: 0.5181\n",
            "Epoch 70/100\n",
            "136/136 [==============================] - 3s 22ms/step - loss: 0.0079 - accuracy: 0.9967 - val_loss: 2.9526 - val_accuracy: 0.5110\n",
            "Epoch 71/100\n",
            "136/136 [==============================] - 3s 21ms/step - loss: 0.0081 - accuracy: 0.9966 - val_loss: 3.0021 - val_accuracy: 0.5118\n",
            "Epoch 72/100\n",
            "136/136 [==============================] - 3s 21ms/step - loss: 0.0086 - accuracy: 0.9967 - val_loss: 2.9377 - val_accuracy: 0.5212\n",
            "Epoch 73/100\n",
            "136/136 [==============================] - 3s 21ms/step - loss: 0.0077 - accuracy: 0.9968 - val_loss: 3.0213 - val_accuracy: 0.5129\n",
            "Epoch 74/100\n",
            "136/136 [==============================] - 3s 21ms/step - loss: 0.0075 - accuracy: 0.9968 - val_loss: 2.9900 - val_accuracy: 0.5098\n",
            "Epoch 75/100\n",
            "136/136 [==============================] - 3s 21ms/step - loss: 0.0075 - accuracy: 0.9968 - val_loss: 3.0196 - val_accuracy: 0.5164\n",
            "Epoch 76/100\n",
            "136/136 [==============================] - 3s 21ms/step - loss: 0.0071 - accuracy: 0.9971 - val_loss: 2.9711 - val_accuracy: 0.5196\n",
            "Epoch 77/100\n",
            "136/136 [==============================] - 3s 23ms/step - loss: 0.0075 - accuracy: 0.9967 - val_loss: 3.0673 - val_accuracy: 0.5149\n",
            "Epoch 78/100\n",
            "136/136 [==============================] - 3s 21ms/step - loss: 0.0070 - accuracy: 0.9971 - val_loss: 2.9689 - val_accuracy: 0.5184\n",
            "Epoch 79/100\n",
            "136/136 [==============================] - 3s 23ms/step - loss: 0.0069 - accuracy: 0.9969 - val_loss: 3.0718 - val_accuracy: 0.5106\n",
            "Epoch 80/100\n",
            "136/136 [==============================] - 3s 22ms/step - loss: 0.0074 - accuracy: 0.9966 - val_loss: 3.0488 - val_accuracy: 0.5189\n",
            "Epoch 81/100\n",
            "136/136 [==============================] - 3s 23ms/step - loss: 0.0073 - accuracy: 0.9966 - val_loss: 3.0811 - val_accuracy: 0.5189\n",
            "Epoch 82/100\n",
            "136/136 [==============================] - 3s 21ms/step - loss: 0.0069 - accuracy: 0.9967 - val_loss: 3.0624 - val_accuracy: 0.5126\n",
            "Epoch 83/100\n",
            "136/136 [==============================] - 3s 23ms/step - loss: 0.0069 - accuracy: 0.9968 - val_loss: 3.1013 - val_accuracy: 0.5154\n",
            "Epoch 84/100\n",
            "136/136 [==============================] - 3s 21ms/step - loss: 0.0070 - accuracy: 0.9971 - val_loss: 3.0002 - val_accuracy: 0.5153\n",
            "Epoch 85/100\n",
            "136/136 [==============================] - 3s 21ms/step - loss: 0.0075 - accuracy: 0.9968 - val_loss: 3.0588 - val_accuracy: 0.5154\n",
            "Epoch 86/100\n",
            "136/136 [==============================] - 3s 23ms/step - loss: 0.0075 - accuracy: 0.9965 - val_loss: 3.0059 - val_accuracy: 0.5160\n",
            "Epoch 87/100\n",
            "136/136 [==============================] - 3s 21ms/step - loss: 0.0077 - accuracy: 0.9969 - val_loss: 3.0393 - val_accuracy: 0.5091\n",
            "Epoch 88/100\n",
            "136/136 [==============================] - 3s 21ms/step - loss: 0.0067 - accuracy: 0.9970 - val_loss: 2.9953 - val_accuracy: 0.5125\n",
            "Epoch 89/100\n",
            "136/136 [==============================] - 3s 21ms/step - loss: 0.0067 - accuracy: 0.9967 - val_loss: 3.0330 - val_accuracy: 0.5096\n",
            "Epoch 90/100\n",
            "136/136 [==============================] - 3s 22ms/step - loss: 0.0069 - accuracy: 0.9970 - val_loss: 3.0243 - val_accuracy: 0.5104\n",
            "Epoch 91/100\n",
            "136/136 [==============================] - 3s 23ms/step - loss: 0.0067 - accuracy: 0.9969 - val_loss: 3.0778 - val_accuracy: 0.5112\n",
            "Epoch 92/100\n",
            "136/136 [==============================] - 3s 21ms/step - loss: 0.0065 - accuracy: 0.9968 - val_loss: 3.0521 - val_accuracy: 0.5157\n",
            "Epoch 93/100\n",
            "136/136 [==============================] - 3s 21ms/step - loss: 0.0067 - accuracy: 0.9970 - val_loss: 3.0686 - val_accuracy: 0.5141\n",
            "Epoch 94/100\n",
            "136/136 [==============================] - 3s 21ms/step - loss: 0.0068 - accuracy: 0.9969 - val_loss: 3.0145 - val_accuracy: 0.5110\n",
            "Epoch 95/100\n",
            "136/136 [==============================] - 3s 21ms/step - loss: 0.0067 - accuracy: 0.9969 - val_loss: 3.0618 - val_accuracy: 0.5112\n",
            "Epoch 96/100\n",
            "136/136 [==============================] - 3s 21ms/step - loss: 0.0066 - accuracy: 0.9967 - val_loss: 3.1626 - val_accuracy: 0.5106\n",
            "Epoch 97/100\n",
            "136/136 [==============================] - 3s 23ms/step - loss: 0.0069 - accuracy: 0.9964 - val_loss: 3.0060 - val_accuracy: 0.5142\n",
            "Epoch 98/100\n",
            "136/136 [==============================] - 3s 22ms/step - loss: 0.0062 - accuracy: 0.9971 - val_loss: 3.0993 - val_accuracy: 0.5153\n",
            "Epoch 99/100\n",
            "136/136 [==============================] - 3s 23ms/step - loss: 0.0064 - accuracy: 0.9968 - val_loss: 3.0237 - val_accuracy: 0.5126\n",
            "Epoch 100/100\n",
            "136/136 [==============================] - 3s 21ms/step - loss: 0.0062 - accuracy: 0.9968 - val_loss: 3.0066 - val_accuracy: 0.5131\n"
          ]
        }
      ]
    },
    {
      "cell_type": "code",
      "source": [
        "plt.plot(history.history['accuracy'])\n",
        "plt.plot(history.history['val_accuracy'])\n",
        "plt.title('Model Accuracy')\n",
        "plt.xlabel('epoch')\n",
        "plt.legend(['Train','Valition'], loc='upper left')\n",
        "plt.show()"
      ],
      "metadata": {
        "id": "XkoEW8_j74qa",
        "colab": {
          "base_uri": "https://localhost:8080/",
          "height": 295
        },
        "outputId": "b52a5aac-aae4-44d8-9961-232aa64eb12b"
      },
      "execution_count": null,
      "outputs": [
        {
          "output_type": "display_data",
          "data": {
            "text/plain": [
              "<Figure size 432x288 with 1 Axes>"
            ],
            "image/png": "[encoded data removed]"
          },
          "metadata": {
            "needs_background": "light"
          }
        }
      ]
    },
    {
      "cell_type": "code",
      "source": [
        "model.save('/content/drive/MyDrive/train/model.h5')"
      ],
      "metadata": {
        "id": "-TKEph7w77_M"
      },
      "execution_count": null,
      "outputs": []
    }
  ]
}