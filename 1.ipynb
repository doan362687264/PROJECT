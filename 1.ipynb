{
  "nbformat": 4,
  "nbformat_minor": 0,
  "metadata": {
    "colab": {
      "name": "1.ipynb",
      "provenance": [],
      "authorship_tag": "ABX9TyMKygQDW2rJT1iYHqXHn+Tv",
      "include_colab_link": true
    },
    "kernelspec": {
      "name": "python3",
      "display_name": "Python 3"
    },
    "language_info": {
      "name": "python"
    },
    "accelerator": "GPU",
    "gpuClass": "standard"
  },
  "cells": [
    {
      "cell_type": "markdown",
      "metadata": {
        "id": "view-in-github",
        "colab_type": "text"
      },
      "source": [
        "<a href=\"https://colab.research.google.com/github/doan362687264/PROJECT/blob/main/1.ipynb\" target=\"_parent\"><img src=\"https://colab.research.google.com/assets/colab-badge.svg\" alt=\"Open In Colab\"/></a>"
      ]
    },
    {
      "cell_type": "code",
      "execution_count": null,
      "metadata": {
        "colab": {
          "base_uri": "https://localhost:8080/"
        },
        "id": "dpR3TzC2UX8E",
        "outputId": "bb2d5d17-0d52-48cc-bf16-fdab050a2588"
      },
      "outputs": [
        {
          "output_type": "stream",
          "name": "stdout",
          "text": [
            "Mounted at /content/drive\n"
          ]
        }
      ],
      "source": [
        "from google.colab import drive \n",
        "drive.mount('/content/drive')"
      ]
    },
    {
      "cell_type": "code",
      "source": [
        "from keras import datasets, Sequential\n",
        "from keras.layers import Conv2D, Dense, MaxPooling2D, Flatten\n",
        "from keras.preprocessing import  image\n",
        "from keras.preprocessing.image import load_img, img_to_array,array_to_img,ImageDataGenerator\n",
        "import matplotlib.pyplot as plt\n",
        "import seaborn as sns\n",
        "import numpy as np\n",
        "from numpy import asarray\n",
        "from numpy import save\n",
        "import keras\n",
        "import os\n",
        "from os import listdir\n",
        "import cv2 as cv\n",
        "import tensorflow as tf\n",
        "from tensorflow.keras.optimizers import Adam, SGD\n",
        "from sklearn.model_selection import train_test_split"
      ],
      "metadata": {
        "id": "33GTniJUVSAE"
      },
      "execution_count": null,
      "outputs": []
    },
    {
      "cell_type": "code",
      "source": [
        "folder  = '/content/drive/MyDrive/train1/positive'\n",
        "folder1 ='/content/drive/MyDrive/train1/negative'\n",
        "folders=[folder,folder1]\n",
        "photos, labels = list(), list()\n",
        "for i in range (2):\n",
        "  for file in listdir(folders[i]):\n",
        "    output=i\n",
        "    photo = load_img(folders[i]+'/'+file, target_size=(48,48))\n",
        "    photo = img_to_array(photo)\n",
        "    photos.append(photo)\n",
        "    labels.append(output)\n",
        "photos = asarray(photos)\n",
        "labels = asarray(labels)\n",
        "print(photos.shape, labels.shape)\n",
        "save('/content/drive/MyDrive/train1/photoes1.npy',photos)\n",
        "save('/content/drive/MyDrive/train1/labels1.npy',labels)"
      ],
      "metadata": {
        "colab": {
          "base_uri": "https://localhost:8080/"
        },
        "id": "pbPoWMj6VSFZ",
        "outputId": "c7163082-ea80-4059-ca9f-05295bc16117"
      },
      "execution_count": null,
      "outputs": [
        {
          "output_type": "stream",
          "name": "stdout",
          "text": [
            "(37122, 48, 48, 3) (37122,)\n"
          ]
        }
      ]
    },
    {
      "cell_type": "code",
      "source": [
        "x_train, x_test, y_train, y_test = train_test_split(photos, labels, test_size=0.3, random_state=2)\n",
        "x_train /= 255\n",
        "x_test /= 255\n",
        "y_train = keras.utils.np_utils.to_categorical(y_train)\n",
        "y_test = keras.utils.np_utils.to_categorical(y_test)"
      ],
      "metadata": {
        "id": "zTD5u0cWVt9e"
      },
      "execution_count": null,
      "outputs": []
    },
    {
      "cell_type": "code",
      "source": [
        "#tạo model\n",
        "model = Sequential()\n",
        "model.add(Conv2D(32,(3,3), activation = 'relu', kernel_initializer='he_uniform',padding='same',input_shape=(48,48,3)))\n",
        "model.add(MaxPooling2D((2,2)))\n",
        "\n",
        "model.add(Conv2D(64,(3,3), activation = 'relu', kernel_initializer='he_uniform',padding='same'))\n",
        "model.add(MaxPooling2D((2,2)))\n",
        "\n",
        "model.add(Conv2D(128,(3,3), activation = 'relu', kernel_initializer='he_uniform',padding='same'))\n",
        "model.add(MaxPooling2D((2,2)))\n",
        "\n",
        "model.add(Conv2D(512,(3,3), activation = 'relu', kernel_initializer='he_uniform',padding='same'))\n",
        "model.add(MaxPooling2D((2,2)))\n",
        "\n",
        "model.add(Flatten())\n",
        "model.add(Dense(512, activation='relu', kernel_initializer='he_uniform'))  #Dense la full connected \n",
        "model.add(Dense(2, activation='Softmax'))\n",
        "model.summary()"
      ],
      "metadata": {
        "colab": {
          "base_uri": "https://localhost:8080/"
        },
        "id": "HXrU0W_cVweE",
        "outputId": "a5ec90df-8da4-43ab-f0a1-0c45dfa7d00c"
      },
      "execution_count": null,
      "outputs": [
        {
          "output_type": "stream",
          "name": "stdout",
          "text": [
            "Model: \"sequential_2\"\n",
            "_________________________________________________________________\n",
            " Layer (type)                Output Shape              Param #   \n",
            "=================================================================\n",
            " conv2d_8 (Conv2D)           (None, 48, 48, 32)        896       \n",
            "                                                                 \n",
            " max_pooling2d_8 (MaxPooling  (None, 24, 24, 32)       0         \n",
            " 2D)                                                             \n",
            "                                                                 \n",
            " conv2d_9 (Conv2D)           (None, 24, 24, 64)        18496     \n",
            "                                                                 \n",
            " max_pooling2d_9 (MaxPooling  (None, 12, 12, 64)       0         \n",
            " 2D)                                                             \n",
            "                                                                 \n",
            " conv2d_10 (Conv2D)          (None, 12, 12, 128)       73856     \n",
            "                                                                 \n",
            " max_pooling2d_10 (MaxPoolin  (None, 6, 6, 128)        0         \n",
            " g2D)                                                            \n",
            "                                                                 \n",
            " conv2d_11 (Conv2D)          (None, 6, 6, 512)         590336    \n",
            "                                                                 \n",
            " max_pooling2d_11 (MaxPoolin  (None, 3, 3, 512)        0         \n",
            " g2D)                                                            \n",
            "                                                                 \n",
            " flatten_2 (Flatten)         (None, 4608)              0         \n",
            "                                                                 \n",
            " dense_4 (Dense)             (None, 512)               2359808   \n",
            "                                                                 \n",
            " dense_5 (Dense)             (None, 2)                 1026      \n",
            "                                                                 \n",
            "=================================================================\n",
            "Total params: 3,044,418\n",
            "Trainable params: 3,044,418\n",
            "Non-trainable params: 0\n",
            "_________________________________________________________________\n"
          ]
        }
      ]
    },
    {
      "cell_type": "code",
      "source": [
        "opt = SGD(lr=0.01, momentum=0.9)\n",
        "model.compile(optimizer=opt,loss='categorical_crossentropy',  metrics=['accuracy'])\n",
        "history = model.fit(x_train, y_train, batch_size=128, epochs=100, verbose=1,validation_data=(x_test, y_test))"
      ],
      "metadata": {
        "colab": {
          "base_uri": "https://localhost:8080/"
        },
        "id": "8jViSviqVyNH",
        "outputId": "d1aad106-d10d-4bac-9124-3986b866f729"
      },
      "execution_count": null,
      "outputs": [
        {
          "output_type": "stream",
          "name": "stderr",
          "text": [
            "/usr/local/lib/python3.7/dist-packages/keras/optimizer_v2/gradient_descent.py:102: UserWarning: The `lr` argument is deprecated, use `learning_rate` instead.\n",
            "  super(SGD, self).__init__(name, **kwargs)\n"
          ]
        },
        {
          "output_type": "stream",
          "name": "stdout",
          "text": [
            "Epoch 1/100\n",
            "204/204 [==============================] - 18s 28ms/step - loss: 0.7685 - accuracy: 0.5517 - val_loss: 0.6876 - val_accuracy: 0.5560\n",
            "Epoch 2/100\n",
            "204/204 [==============================] - 4s 21ms/step - loss: 0.6741 - accuracy: 0.5792 - val_loss: 0.6701 - val_accuracy: 0.5941\n",
            "Epoch 3/100\n",
            "204/204 [==============================] - 4s 21ms/step - loss: 0.6731 - accuracy: 0.5790 - val_loss: 0.6884 - val_accuracy: 0.5411\n",
            "Epoch 4/100\n",
            "204/204 [==============================] - 4s 22ms/step - loss: 0.6673 - accuracy: 0.5902 - val_loss: 0.6561 - val_accuracy: 0.6163\n",
            "Epoch 5/100\n",
            "204/204 [==============================] - 5s 24ms/step - loss: 0.6472 - accuracy: 0.6256 - val_loss: 0.6403 - val_accuracy: 0.6386\n",
            "Epoch 6/100\n",
            "204/204 [==============================] - 5s 23ms/step - loss: 0.6312 - accuracy: 0.6446 - val_loss: 0.6782 - val_accuracy: 0.6139\n",
            "Epoch 7/100\n",
            "204/204 [==============================] - 5s 24ms/step - loss: 0.6138 - accuracy: 0.6626 - val_loss: 0.9093 - val_accuracy: 0.4673\n",
            "Epoch 8/100\n",
            "204/204 [==============================] - 4s 22ms/step - loss: 0.6246 - accuracy: 0.6500 - val_loss: 0.7312 - val_accuracy: 0.5414\n",
            "Epoch 9/100\n",
            "204/204 [==============================] - 5s 24ms/step - loss: 0.5917 - accuracy: 0.6832 - val_loss: 0.5894 - val_accuracy: 0.6938\n",
            "Epoch 10/100\n",
            "204/204 [==============================] - 4s 22ms/step - loss: 0.5652 - accuracy: 0.7048 - val_loss: 0.6046 - val_accuracy: 0.6919\n",
            "Epoch 11/100\n",
            "204/204 [==============================] - 4s 21ms/step - loss: 0.5490 - accuracy: 0.7181 - val_loss: 0.6090 - val_accuracy: 0.6948\n",
            "Epoch 12/100\n",
            "204/204 [==============================] - 5s 23ms/step - loss: 0.5355 - accuracy: 0.7273 - val_loss: 0.8069 - val_accuracy: 0.5405\n",
            "Epoch 13/100\n",
            "204/204 [==============================] - 5s 24ms/step - loss: 0.5672 - accuracy: 0.7015 - val_loss: 0.6270 - val_accuracy: 0.6754\n",
            "Epoch 14/100\n",
            "204/204 [==============================] - 4s 22ms/step - loss: 0.5417 - accuracy: 0.7208 - val_loss: 0.6050 - val_accuracy: 0.6722\n",
            "Epoch 15/100\n",
            "204/204 [==============================] - 4s 22ms/step - loss: 0.4979 - accuracy: 0.7533 - val_loss: 0.6148 - val_accuracy: 0.6879\n",
            "Epoch 16/100\n",
            "204/204 [==============================] - 4s 22ms/step - loss: 0.4766 - accuracy: 0.7621 - val_loss: 0.6120 - val_accuracy: 0.6824\n",
            "Epoch 17/100\n",
            "204/204 [==============================] - 4s 22ms/step - loss: 0.4562 - accuracy: 0.7749 - val_loss: 0.7517 - val_accuracy: 0.6705\n",
            "Epoch 18/100\n",
            "204/204 [==============================] - 4s 22ms/step - loss: 0.4483 - accuracy: 0.7803 - val_loss: 0.6913 - val_accuracy: 0.6805\n",
            "Epoch 19/100\n",
            "204/204 [==============================] - 4s 22ms/step - loss: 0.4996 - accuracy: 0.7504 - val_loss: 0.6411 - val_accuracy: 0.6518\n",
            "Epoch 20/100\n",
            "204/204 [==============================] - 5s 22ms/step - loss: 0.4264 - accuracy: 0.7896 - val_loss: 0.9442 - val_accuracy: 0.5738\n",
            "Epoch 21/100\n",
            "204/204 [==============================] - 4s 22ms/step - loss: 0.4488 - accuracy: 0.7778 - val_loss: 0.6848 - val_accuracy: 0.6706\n",
            "Epoch 22/100\n",
            "204/204 [==============================] - 4s 22ms/step - loss: 0.4054 - accuracy: 0.8026 - val_loss: 0.6854 - val_accuracy: 0.6472\n",
            "Epoch 23/100\n",
            "204/204 [==============================] - 4s 21ms/step - loss: 0.3750 - accuracy: 0.8191 - val_loss: 0.8789 - val_accuracy: 0.5667\n",
            "Epoch 24/100\n",
            "204/204 [==============================] - 4s 21ms/step - loss: 0.4674 - accuracy: 0.7639 - val_loss: 0.8036 - val_accuracy: 0.6711\n",
            "Epoch 25/100\n",
            "204/204 [==============================] - 4s 22ms/step - loss: 0.3880 - accuracy: 0.8110 - val_loss: 0.7516 - val_accuracy: 0.6460\n",
            "Epoch 26/100\n",
            "204/204 [==============================] - 4s 22ms/step - loss: 0.3516 - accuracy: 0.8301 - val_loss: 0.7372 - val_accuracy: 0.6479\n",
            "Epoch 27/100\n",
            "204/204 [==============================] - 4s 22ms/step - loss: 0.3300 - accuracy: 0.8412 - val_loss: 0.8887 - val_accuracy: 0.6117\n",
            "Epoch 28/100\n",
            "204/204 [==============================] - 4s 21ms/step - loss: 0.3531 - accuracy: 0.8284 - val_loss: 1.6831 - val_accuracy: 0.5085\n",
            "Epoch 29/100\n",
            "204/204 [==============================] - 4s 21ms/step - loss: 0.6521 - accuracy: 0.6268 - val_loss: 0.6367 - val_accuracy: 0.6629\n",
            "Epoch 30/100\n",
            "204/204 [==============================] - 5s 24ms/step - loss: 0.5384 - accuracy: 0.7227 - val_loss: 0.6233 - val_accuracy: 0.6704\n",
            "Epoch 31/100\n",
            "204/204 [==============================] - 4s 22ms/step - loss: 0.4541 - accuracy: 0.7762 - val_loss: 0.9510 - val_accuracy: 0.5607\n",
            "Epoch 32/100\n",
            "204/204 [==============================] - 5s 24ms/step - loss: 0.4918 - accuracy: 0.7524 - val_loss: 0.6572 - val_accuracy: 0.6656\n",
            "Epoch 33/100\n",
            "204/204 [==============================] - 5s 24ms/step - loss: 0.3882 - accuracy: 0.8097 - val_loss: 0.7259 - val_accuracy: 0.6670\n",
            "Epoch 34/100\n",
            "204/204 [==============================] - 4s 22ms/step - loss: 0.3545 - accuracy: 0.8297 - val_loss: 0.7438 - val_accuracy: 0.6413\n",
            "Epoch 35/100\n",
            "204/204 [==============================] - 4s 22ms/step - loss: 0.3237 - accuracy: 0.8432 - val_loss: 0.8500 - val_accuracy: 0.6451\n",
            "Epoch 36/100\n",
            "204/204 [==============================] - 5s 24ms/step - loss: 0.3056 - accuracy: 0.8496 - val_loss: 0.8264 - val_accuracy: 0.6348\n",
            "Epoch 37/100\n",
            "204/204 [==============================] - 4s 21ms/step - loss: 0.3000 - accuracy: 0.8541 - val_loss: 0.9558 - val_accuracy: 0.5939\n",
            "Epoch 38/100\n",
            "204/204 [==============================] - 4s 22ms/step - loss: 0.3783 - accuracy: 0.8183 - val_loss: 0.8360 - val_accuracy: 0.6380\n",
            "Epoch 39/100\n",
            "204/204 [==============================] - 5s 24ms/step - loss: 0.2997 - accuracy: 0.8516 - val_loss: 0.7939 - val_accuracy: 0.6233\n",
            "Epoch 40/100\n",
            "204/204 [==============================] - 4s 22ms/step - loss: 0.2795 - accuracy: 0.8633 - val_loss: 0.7943 - val_accuracy: 0.6328\n",
            "Epoch 41/100\n",
            "204/204 [==============================] - 5s 25ms/step - loss: 0.2734 - accuracy: 0.8624 - val_loss: 1.0012 - val_accuracy: 0.6428\n",
            "Epoch 42/100\n",
            "204/204 [==============================] - 4s 22ms/step - loss: 0.2756 - accuracy: 0.8620 - val_loss: 0.8503 - val_accuracy: 0.6275\n",
            "Epoch 43/100\n",
            "204/204 [==============================] - 4s 22ms/step - loss: 0.2581 - accuracy: 0.8632 - val_loss: 0.9154 - val_accuracy: 0.6346\n",
            "Epoch 44/100\n",
            "204/204 [==============================] - 5s 24ms/step - loss: 0.2479 - accuracy: 0.8668 - val_loss: 0.9112 - val_accuracy: 0.6309\n",
            "Epoch 45/100\n",
            "204/204 [==============================] - 5s 25ms/step - loss: 0.2482 - accuracy: 0.8669 - val_loss: 1.0096 - val_accuracy: 0.6247\n",
            "Epoch 46/100\n",
            "204/204 [==============================] - 4s 22ms/step - loss: 0.2396 - accuracy: 0.8667 - val_loss: 0.9309 - val_accuracy: 0.6206\n",
            "Epoch 47/100\n",
            "204/204 [==============================] - 4s 21ms/step - loss: 0.2366 - accuracy: 0.8693 - val_loss: 1.0655 - val_accuracy: 0.6367\n",
            "Epoch 48/100\n",
            "204/204 [==============================] - 4s 22ms/step - loss: 0.2311 - accuracy: 0.8693 - val_loss: 0.9579 - val_accuracy: 0.5318\n",
            "Epoch 49/100\n",
            "204/204 [==============================] - 4s 22ms/step - loss: 0.7018 - accuracy: 0.5479 - val_loss: 0.6875 - val_accuracy: 0.5560\n",
            "Epoch 50/100\n",
            "204/204 [==============================] - 5s 24ms/step - loss: 0.6872 - accuracy: 0.5543 - val_loss: 0.6863 - val_accuracy: 0.5558\n",
            "Epoch 51/100\n",
            "204/204 [==============================] - 4s 22ms/step - loss: 0.6836 - accuracy: 0.5513 - val_loss: 0.6831 - val_accuracy: 0.5589\n",
            "Epoch 52/100\n",
            "204/204 [==============================] - 4s 22ms/step - loss: 0.6778 - accuracy: 0.5668 - val_loss: 0.9784 - val_accuracy: 0.4455\n",
            "Epoch 53/100\n",
            "204/204 [==============================] - 4s 22ms/step - loss: 0.6845 - accuracy: 0.5656 - val_loss: 0.7815 - val_accuracy: 0.4540\n",
            "Epoch 54/100\n",
            "204/204 [==============================] - 4s 21ms/step - loss: 0.6758 - accuracy: 0.5776 - val_loss: 0.7326 - val_accuracy: 0.4951\n",
            "Epoch 55/100\n",
            "204/204 [==============================] - 4s 21ms/step - loss: 0.6548 - accuracy: 0.6140 - val_loss: 0.7881 - val_accuracy: 0.4955\n",
            "Epoch 56/100\n",
            "204/204 [==============================] - 5s 25ms/step - loss: 0.6820 - accuracy: 0.5656 - val_loss: 0.6989 - val_accuracy: 0.5012\n",
            "Epoch 57/100\n",
            "204/204 [==============================] - 4s 22ms/step - loss: 0.6802 - accuracy: 0.5676 - val_loss: 0.7545 - val_accuracy: 0.4809\n",
            "Epoch 58/100\n",
            "204/204 [==============================] - 5s 24ms/step - loss: 0.6602 - accuracy: 0.6023 - val_loss: 0.7215 - val_accuracy: 0.5415\n",
            "Epoch 59/100\n",
            "204/204 [==============================] - 4s 21ms/step - loss: 0.6669 - accuracy: 0.5952 - val_loss: 0.6358 - val_accuracy: 0.6434\n",
            "Epoch 60/100\n",
            "204/204 [==============================] - 4s 22ms/step - loss: 0.6084 - accuracy: 0.6696 - val_loss: 0.6796 - val_accuracy: 0.5871\n",
            "Epoch 61/100\n",
            "204/204 [==============================] - 4s 22ms/step - loss: 0.5425 - accuracy: 0.7182 - val_loss: 0.6159 - val_accuracy: 0.6662\n",
            "Epoch 62/100\n",
            "204/204 [==============================] - 5s 25ms/step - loss: 0.4673 - accuracy: 0.7676 - val_loss: 0.8520 - val_accuracy: 0.5950\n",
            "Epoch 63/100\n",
            "204/204 [==============================] - 4s 21ms/step - loss: 0.4636 - accuracy: 0.7682 - val_loss: 0.7138 - val_accuracy: 0.6568\n",
            "Epoch 64/100\n",
            "204/204 [==============================] - 4s 21ms/step - loss: 0.3665 - accuracy: 0.8184 - val_loss: 0.7828 - val_accuracy: 0.6323\n",
            "Epoch 65/100\n",
            "204/204 [==============================] - 4s 22ms/step - loss: 0.3218 - accuracy: 0.8410 - val_loss: 0.8929 - val_accuracy: 0.6214\n",
            "Epoch 66/100\n",
            "204/204 [==============================] - 4s 21ms/step - loss: 0.2985 - accuracy: 0.8528 - val_loss: 0.9057 - val_accuracy: 0.6196\n",
            "Epoch 67/100\n",
            "204/204 [==============================] - 5s 24ms/step - loss: 0.2785 - accuracy: 0.8576 - val_loss: 0.9149 - val_accuracy: 0.6316\n",
            "Epoch 68/100\n",
            "204/204 [==============================] - 4s 21ms/step - loss: 0.2689 - accuracy: 0.8618 - val_loss: 0.9073 - val_accuracy: 0.6170\n",
            "Epoch 69/100\n",
            "204/204 [==============================] - 4s 21ms/step - loss: 0.2557 - accuracy: 0.8641 - val_loss: 0.9196 - val_accuracy: 0.6073\n",
            "Epoch 70/100\n",
            "204/204 [==============================] - 4s 22ms/step - loss: 0.2822 - accuracy: 0.8561 - val_loss: 0.9892 - val_accuracy: 0.6272\n",
            "Epoch 71/100\n",
            "204/204 [==============================] - 4s 22ms/step - loss: 0.2441 - accuracy: 0.8677 - val_loss: 1.0945 - val_accuracy: 0.6152\n",
            "Epoch 72/100\n",
            "204/204 [==============================] - 4s 22ms/step - loss: 0.2337 - accuracy: 0.8665 - val_loss: 1.0070 - val_accuracy: 0.6262\n",
            "Epoch 73/100\n",
            "204/204 [==============================] - 4s 21ms/step - loss: 0.2389 - accuracy: 0.8672 - val_loss: 1.0687 - val_accuracy: 0.6207\n",
            "Epoch 74/100\n",
            "204/204 [==============================] - 5s 23ms/step - loss: 0.2211 - accuracy: 0.8705 - val_loss: 1.1345 - val_accuracy: 0.6220\n",
            "Epoch 75/100\n",
            "204/204 [==============================] - 5s 23ms/step - loss: 0.2143 - accuracy: 0.8710 - val_loss: 1.1831 - val_accuracy: 0.6220\n",
            "Epoch 76/100\n",
            "204/204 [==============================] - 4s 21ms/step - loss: 0.2070 - accuracy: 0.8706 - val_loss: 1.2070 - val_accuracy: 0.6148\n",
            "Epoch 77/100\n",
            "204/204 [==============================] - 4s 22ms/step - loss: 0.2013 - accuracy: 0.8722 - val_loss: 1.1718 - val_accuracy: 0.6325\n",
            "Epoch 78/100\n",
            "204/204 [==============================] - 4s 22ms/step - loss: 0.2812 - accuracy: 0.8524 - val_loss: 1.0881 - val_accuracy: 0.6205\n",
            "Epoch 79/100\n",
            "204/204 [==============================] - 4s 22ms/step - loss: 0.2156 - accuracy: 0.8705 - val_loss: 1.1337 - val_accuracy: 0.6206\n",
            "Epoch 80/100\n",
            "204/204 [==============================] - 4s 22ms/step - loss: 0.2051 - accuracy: 0.8695 - val_loss: 1.2482 - val_accuracy: 0.6229\n",
            "Epoch 81/100\n",
            "204/204 [==============================] - 4s 21ms/step - loss: 0.1922 - accuracy: 0.8729 - val_loss: 1.3112 - val_accuracy: 0.6179\n",
            "Epoch 82/100\n",
            "204/204 [==============================] - 4s 22ms/step - loss: 0.1870 - accuracy: 0.8733 - val_loss: 1.2209 - val_accuracy: 0.6240\n",
            "Epoch 83/100\n",
            "204/204 [==============================] - 5s 25ms/step - loss: 0.1844 - accuracy: 0.8756 - val_loss: 1.4017 - val_accuracy: 0.6213\n",
            "Epoch 84/100\n",
            "204/204 [==============================] - 4s 22ms/step - loss: 0.1797 - accuracy: 0.8763 - val_loss: 1.3738 - val_accuracy: 0.6189\n",
            "Epoch 85/100\n",
            "204/204 [==============================] - 5s 25ms/step - loss: 0.1815 - accuracy: 0.8759 - val_loss: 1.5713 - val_accuracy: 0.6219\n",
            "Epoch 86/100\n",
            "204/204 [==============================] - 4s 22ms/step - loss: 0.1783 - accuracy: 0.8749 - val_loss: 1.6150 - val_accuracy: 0.6209\n",
            "Epoch 87/100\n",
            "204/204 [==============================] - 4s 22ms/step - loss: 0.1770 - accuracy: 0.8764 - val_loss: 1.8508 - val_accuracy: 0.6247\n",
            "Epoch 88/100\n",
            "204/204 [==============================] - 5s 22ms/step - loss: 0.1672 - accuracy: 0.8805 - val_loss: 1.6158 - val_accuracy: 0.6214\n",
            "Epoch 89/100\n",
            "204/204 [==============================] - 4s 22ms/step - loss: 0.2608 - accuracy: 0.8546 - val_loss: 1.5859 - val_accuracy: 0.6116\n",
            "Epoch 90/100\n",
            "204/204 [==============================] - 5s 25ms/step - loss: 0.1846 - accuracy: 0.8773 - val_loss: 1.5871 - val_accuracy: 0.6140\n",
            "Epoch 91/100\n",
            "204/204 [==============================] - 5s 24ms/step - loss: 0.1725 - accuracy: 0.8795 - val_loss: 1.7480 - val_accuracy: 0.6145\n",
            "Epoch 92/100\n",
            "204/204 [==============================] - 4s 22ms/step - loss: 0.1699 - accuracy: 0.8810 - val_loss: 1.5689 - val_accuracy: 0.6137\n",
            "Epoch 93/100\n",
            "204/204 [==============================] - 4s 22ms/step - loss: 0.1647 - accuracy: 0.8815 - val_loss: 1.9069 - val_accuracy: 0.6217\n",
            "Epoch 94/100\n",
            "204/204 [==============================] - 4s 22ms/step - loss: 0.1615 - accuracy: 0.8799 - val_loss: 2.0053 - val_accuracy: 0.6161\n",
            "Epoch 95/100\n",
            "204/204 [==============================] - 4s 22ms/step - loss: 0.1663 - accuracy: 0.8810 - val_loss: 2.0777 - val_accuracy: 0.6176\n",
            "Epoch 96/100\n",
            "204/204 [==============================] - 5s 24ms/step - loss: 0.1584 - accuracy: 0.8829 - val_loss: 2.0184 - val_accuracy: 0.6237\n",
            "Epoch 97/100\n",
            "204/204 [==============================] - 4s 22ms/step - loss: 0.1563 - accuracy: 0.8828 - val_loss: 1.9611 - val_accuracy: 0.6187\n",
            "Epoch 98/100\n",
            "204/204 [==============================] - 4s 22ms/step - loss: 0.1589 - accuracy: 0.8855 - val_loss: 1.8724 - val_accuracy: 0.6178\n",
            "Epoch 99/100\n",
            "204/204 [==============================] - 4s 22ms/step - loss: 0.1544 - accuracy: 0.8842 - val_loss: 2.1166 - val_accuracy: 0.6135\n",
            "Epoch 100/100\n",
            "204/204 [==============================] - 5s 24ms/step - loss: 0.1541 - accuracy: 0.8842 - val_loss: 1.9670 - val_accuracy: 0.6184\n"
          ]
        }
      ]
    },
    {
      "cell_type": "code",
      "source": [
        "plt.plot(history.history['accuracy'])\n",
        "plt.plot(history.history['val_accuracy'])\n",
        "plt.title('Model Accuracy')\n",
        "plt.xlabel('epoch')\n",
        "plt.legend(['Train','Valition'], loc='upper left')\n",
        "plt.show()"
      ],
      "metadata": {
        "colab": {
          "base_uri": "https://localhost:8080/",
          "height": 295
        },
        "id": "99SHd6LfV0A2",
        "outputId": "41918d4a-9f21-4140-c63f-1b39d342a120"
      },
      "execution_count": null,
      "outputs": [
        {
          "output_type": "display_data",
          "data": {
            "text/plain": [
              "<Figure size 432x288 with 1 Axes>"
            ],
            "image/png": "[encoded data removed]"
          },
          "metadata": {
            "needs_background": "light"
          }
        }
      ]
    },
    {
      "cell_type": "code",
      "source": [
        "model.save('/content/drive/MyDrive/train1/model1.h5')"
      ],
      "metadata": {
        "id": "rQEBTgp4V1wQ"
      },
      "execution_count": null,
      "outputs": []
    }
  ]
}